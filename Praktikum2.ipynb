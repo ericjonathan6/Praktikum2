{
 "cells": [
  {
   "cell_type": "markdown",
   "metadata": {},
   "source": [
    "# Praktikum 2 IF4074 Pembelajaran Mesin Lanjut - Clustering\n",
    "* **Ricky Kennedy** - 13516105\n",
    "* **Eric Jonathan** - 13516117\n",
    "* **Christian Wibisono** - 13516147"
   ]
  },
  {
   "cell_type": "markdown",
   "metadata": {},
   "source": [
    "### Data Preparation"
   ]
  },
  {
   "cell_type": "code",
   "execution_count": 96,
   "metadata": {},
   "outputs": [],
   "source": [
    "import pandas as pd\n",
    "import numpy as np\n",
    "import matplotlib.pyplot as plt\n",
    "import seaborn as sns"
   ]
  },
  {
   "cell_type": "code",
   "execution_count": 97,
   "metadata": {},
   "outputs": [],
   "source": [
    "train = pd.read_csv('train.csv')\n",
    "test = pd.read_csv('test.csv')\n",
    "test = test.rename(columns={\"num       \":\"num\"})"
   ]
  },
  {
   "cell_type": "code",
   "execution_count": 98,
   "metadata": {},
   "outputs": [],
   "source": [
    "merged = train.append(test)\n",
    "merged.reset_index(drop=True, inplace=True)"
   ]
  },
  {
   "cell_type": "code",
   "execution_count": 99,
   "metadata": {},
   "outputs": [
    {
     "data": {
      "text/html": [
       "<div>\n",
       "<style scoped>\n",
       "    .dataframe tbody tr th:only-of-type {\n",
       "        vertical-align: middle;\n",
       "    }\n",
       "\n",
       "    .dataframe tbody tr th {\n",
       "        vertical-align: top;\n",
       "    }\n",
       "\n",
       "    .dataframe thead th {\n",
       "        text-align: right;\n",
       "    }\n",
       "</style>\n",
       "<table border=\"1\" class=\"dataframe\">\n",
       "  <thead>\n",
       "    <tr style=\"text-align: right;\">\n",
       "      <th></th>\n",
       "      <th>age</th>\n",
       "      <th>sex</th>\n",
       "      <th>cp</th>\n",
       "      <th>trestbps</th>\n",
       "      <th>chol</th>\n",
       "      <th>fbs</th>\n",
       "      <th>restecg</th>\n",
       "      <th>thalach</th>\n",
       "      <th>exang</th>\n",
       "      <th>oldpeak</th>\n",
       "      <th>slope</th>\n",
       "      <th>ca</th>\n",
       "      <th>thal</th>\n",
       "      <th>num</th>\n",
       "    </tr>\n",
       "  </thead>\n",
       "  <tbody>\n",
       "    <tr>\n",
       "      <th>0</th>\n",
       "      <td>51</td>\n",
       "      <td>0</td>\n",
       "      <td>3</td>\n",
       "      <td>130</td>\n",
       "      <td>220</td>\n",
       "      <td>0</td>\n",
       "      <td>0</td>\n",
       "      <td>160</td>\n",
       "      <td>1</td>\n",
       "      <td>2.0</td>\n",
       "      <td>?</td>\n",
       "      <td>?</td>\n",
       "      <td>?</td>\n",
       "      <td>0</td>\n",
       "    </tr>\n",
       "    <tr>\n",
       "      <th>1</th>\n",
       "      <td>54</td>\n",
       "      <td>1</td>\n",
       "      <td>4</td>\n",
       "      <td>125</td>\n",
       "      <td>216</td>\n",
       "      <td>0</td>\n",
       "      <td>0</td>\n",
       "      <td>140</td>\n",
       "      <td>0</td>\n",
       "      <td>0.0</td>\n",
       "      <td>?</td>\n",
       "      <td>?</td>\n",
       "      <td>?</td>\n",
       "      <td>1</td>\n",
       "    </tr>\n",
       "    <tr>\n",
       "      <th>2</th>\n",
       "      <td>48</td>\n",
       "      <td>1</td>\n",
       "      <td>2</td>\n",
       "      <td>100</td>\n",
       "      <td>252</td>\n",
       "      <td>0</td>\n",
       "      <td>0</td>\n",
       "      <td>100</td>\n",
       "      <td>0</td>\n",
       "      <td>0.0</td>\n",
       "      <td>?</td>\n",
       "      <td>?</td>\n",
       "      <td>?</td>\n",
       "      <td>0</td>\n",
       "    </tr>\n",
       "    <tr>\n",
       "      <th>3</th>\n",
       "      <td>36</td>\n",
       "      <td>1</td>\n",
       "      <td>3</td>\n",
       "      <td>130</td>\n",
       "      <td>209</td>\n",
       "      <td>0</td>\n",
       "      <td>0</td>\n",
       "      <td>178</td>\n",
       "      <td>0</td>\n",
       "      <td>0.0</td>\n",
       "      <td>?</td>\n",
       "      <td>?</td>\n",
       "      <td>6</td>\n",
       "      <td>0</td>\n",
       "    </tr>\n",
       "    <tr>\n",
       "      <th>4</th>\n",
       "      <td>56</td>\n",
       "      <td>1</td>\n",
       "      <td>4</td>\n",
       "      <td>120</td>\n",
       "      <td>85</td>\n",
       "      <td>0</td>\n",
       "      <td>0</td>\n",
       "      <td>140</td>\n",
       "      <td>0</td>\n",
       "      <td>0.0</td>\n",
       "      <td>?</td>\n",
       "      <td>?</td>\n",
       "      <td>?</td>\n",
       "      <td>0</td>\n",
       "    </tr>\n",
       "  </tbody>\n",
       "</table>\n",
       "</div>"
      ],
      "text/plain": [
       "   age  sex  cp trestbps chol  fbs  restecg thalach exang  oldpeak slope ca  \\\n",
       "0   51    0   3      130  220    0        0     160     1      2.0     ?  ?   \n",
       "1   54    1   4      125  216    0        0     140     0      0.0     ?  ?   \n",
       "2   48    1   2      100  252    0        0     100     0      0.0     ?  ?   \n",
       "3   36    1   3      130  209    0        0     178     0      0.0     ?  ?   \n",
       "4   56    1   4      120   85    0        0     140     0      0.0     ?  ?   \n",
       "\n",
       "  thal  num  \n",
       "0    ?    0  \n",
       "1    ?    1  \n",
       "2    ?    0  \n",
       "3    6    0  \n",
       "4    ?    0  "
      ]
     },
     "execution_count": 99,
     "metadata": {},
     "output_type": "execute_result"
    }
   ],
   "source": [
    "merged.head()"
   ]
  },
  {
   "cell_type": "code",
   "execution_count": 100,
   "metadata": {},
   "outputs": [],
   "source": [
    "train = train.replace('?', np.NaN)\n",
    "test = test.replace('?', np.NaN)\n",
    "merged = merged.replace('?', np.NaN)"
   ]
  },
  {
   "cell_type": "code",
   "execution_count": 101,
   "metadata": {},
   "outputs": [
    {
     "name": "stdout",
     "output_type": "stream",
     "text": [
      "<class 'pandas.core.frame.DataFrame'>\n",
      "RangeIndex: 1289 entries, 0 to 1288\n",
      "Data columns (total 14 columns):\n",
      "age         1289 non-null int64\n",
      "sex         1289 non-null int64\n",
      "cp          1289 non-null int64\n",
      "trestbps    1288 non-null object\n",
      "chol        1280 non-null object\n",
      "fbs         1289 non-null int64\n",
      "restecg     1289 non-null int64\n",
      "thalach     1288 non-null object\n",
      "exang       1288 non-null object\n",
      "oldpeak     1289 non-null float64\n",
      "slope       104 non-null object\n",
      "ca          3 non-null object\n",
      "thal        28 non-null object\n",
      "num         1289 non-null int64\n",
      "dtypes: float64(1), int64(6), object(7)\n",
      "memory usage: 141.1+ KB\n"
     ]
    }
   ],
   "source": [
    "merged.info()"
   ]
  },
  {
   "cell_type": "markdown",
   "metadata": {},
   "source": [
    "### Nullity Check"
   ]
  },
  {
   "cell_type": "code",
   "execution_count": 102,
   "metadata": {},
   "outputs": [
    {
     "data": {
      "text/plain": [
       "age            0\n",
       "sex            0\n",
       "cp             0\n",
       "trestbps       1\n",
       "chol           9\n",
       "fbs            0\n",
       "restecg        0\n",
       "thalach        1\n",
       "exang          1\n",
       "oldpeak        0\n",
       "slope       1185\n",
       "ca          1286\n",
       "thal        1261\n",
       "num            0\n",
       "dtype: int64"
      ]
     },
     "execution_count": 102,
     "metadata": {},
     "output_type": "execute_result"
    }
   ],
   "source": [
    "merged.isnull().sum()"
   ]
  },
  {
   "cell_type": "code",
   "execution_count": 103,
   "metadata": {},
   "outputs": [
    {
     "data": {
      "text/plain": [
       "age          0.000000\n",
       "sex          0.000000\n",
       "cp           0.000000\n",
       "trestbps     0.077580\n",
       "chol         0.698216\n",
       "fbs          0.000000\n",
       "restecg      0.000000\n",
       "thalach      0.077580\n",
       "exang        0.077580\n",
       "oldpeak      0.000000\n",
       "slope       91.931730\n",
       "ca          99.767261\n",
       "thal        97.827773\n",
       "num          0.000000\n",
       "dtype: float64"
      ]
     },
     "execution_count": 103,
     "metadata": {},
     "output_type": "execute_result"
    }
   ],
   "source": [
    "(merged.isnull().sum() / merged.shape[0]) * 100"
   ]
  },
  {
   "cell_type": "code",
   "execution_count": 104,
   "metadata": {},
   "outputs": [],
   "source": [
    "train['trestbps'] = train['trestbps'].astype(float)\n",
    "merged['trestbps'] = merged['trestbps'].astype(float)\n",
    "train['chol'] = train['chol'].astype(float)\n",
    "merged['chol'] = merged['chol'].astype(float)\n",
    "train['thalach'] = train['thalach'].astype(float)\n",
    "merged['thalach'] = merged['thalach'].astype(float)\n",
    "train['exang'] = train['exang'].astype(float)\n",
    "merged['exang'] = merged['exang'].astype(float)\n",
    "train['slope'] = train['slope'].astype(float)\n",
    "merged['slope'] = merged['slope'].astype(float)\n",
    "train['ca'] = train['ca'].astype(float)\n",
    "merged['ca'] = merged['ca'].astype(float)\n",
    "train['thal'] = train['thal'].astype(float)\n",
    "merged['thal'] = merged['thal'].astype(float)"
   ]
  },
  {
   "cell_type": "code",
   "execution_count": 105,
   "metadata": {},
   "outputs": [
    {
     "data": {
      "text/html": [
       "<div>\n",
       "<style scoped>\n",
       "    .dataframe tbody tr th:only-of-type {\n",
       "        vertical-align: middle;\n",
       "    }\n",
       "\n",
       "    .dataframe tbody tr th {\n",
       "        vertical-align: top;\n",
       "    }\n",
       "\n",
       "    .dataframe thead th {\n",
       "        text-align: right;\n",
       "    }\n",
       "</style>\n",
       "<table border=\"1\" class=\"dataframe\">\n",
       "  <thead>\n",
       "    <tr style=\"text-align: right;\">\n",
       "      <th></th>\n",
       "      <th>age</th>\n",
       "      <th>sex</th>\n",
       "      <th>cp</th>\n",
       "      <th>trestbps</th>\n",
       "      <th>chol</th>\n",
       "      <th>fbs</th>\n",
       "      <th>restecg</th>\n",
       "      <th>thalach</th>\n",
       "      <th>exang</th>\n",
       "      <th>oldpeak</th>\n",
       "      <th>slope</th>\n",
       "      <th>ca</th>\n",
       "      <th>thal</th>\n",
       "      <th>num</th>\n",
       "    </tr>\n",
       "  </thead>\n",
       "  <tbody>\n",
       "    <tr>\n",
       "      <th>count</th>\n",
       "      <td>1289.000000</td>\n",
       "      <td>1289.000000</td>\n",
       "      <td>1289.000000</td>\n",
       "      <td>1288.00000</td>\n",
       "      <td>1280.000000</td>\n",
       "      <td>1289.000000</td>\n",
       "      <td>1289.000000</td>\n",
       "      <td>1288.000000</td>\n",
       "      <td>1288.000000</td>\n",
       "      <td>1289.000000</td>\n",
       "      <td>104.000000</td>\n",
       "      <td>3.0</td>\n",
       "      <td>28.000000</td>\n",
       "      <td>1289.000000</td>\n",
       "    </tr>\n",
       "    <tr>\n",
       "      <th>mean</th>\n",
       "      <td>47.920093</td>\n",
       "      <td>0.698216</td>\n",
       "      <td>2.747091</td>\n",
       "      <td>130.17236</td>\n",
       "      <td>249.058594</td>\n",
       "      <td>0.065943</td>\n",
       "      <td>0.201707</td>\n",
       "      <td>142.256988</td>\n",
       "      <td>0.201087</td>\n",
       "      <td>0.397207</td>\n",
       "      <td>1.894231</td>\n",
       "      <td>0.0</td>\n",
       "      <td>5.642857</td>\n",
       "      <td>0.176881</td>\n",
       "    </tr>\n",
       "    <tr>\n",
       "      <th>std</th>\n",
       "      <td>6.985720</td>\n",
       "      <td>0.459210</td>\n",
       "      <td>0.861329</td>\n",
       "      <td>14.14839</td>\n",
       "      <td>57.451224</td>\n",
       "      <td>0.248278</td>\n",
       "      <td>0.440176</td>\n",
       "      <td>20.487075</td>\n",
       "      <td>0.400969</td>\n",
       "      <td>0.713191</td>\n",
       "      <td>0.338995</td>\n",
       "      <td>0.0</td>\n",
       "      <td>1.615074</td>\n",
       "      <td>0.381716</td>\n",
       "    </tr>\n",
       "    <tr>\n",
       "      <th>min</th>\n",
       "      <td>28.000000</td>\n",
       "      <td>0.000000</td>\n",
       "      <td>1.000000</td>\n",
       "      <td>92.00000</td>\n",
       "      <td>85.000000</td>\n",
       "      <td>0.000000</td>\n",
       "      <td>0.000000</td>\n",
       "      <td>82.000000</td>\n",
       "      <td>0.000000</td>\n",
       "      <td>0.000000</td>\n",
       "      <td>1.000000</td>\n",
       "      <td>0.0</td>\n",
       "      <td>3.000000</td>\n",
       "      <td>0.000000</td>\n",
       "    </tr>\n",
       "    <tr>\n",
       "      <th>25%</th>\n",
       "      <td>43.000000</td>\n",
       "      <td>0.000000</td>\n",
       "      <td>2.000000</td>\n",
       "      <td>120.00000</td>\n",
       "      <td>213.000000</td>\n",
       "      <td>0.000000</td>\n",
       "      <td>0.000000</td>\n",
       "      <td>130.000000</td>\n",
       "      <td>0.000000</td>\n",
       "      <td>0.000000</td>\n",
       "      <td>2.000000</td>\n",
       "      <td>0.0</td>\n",
       "      <td>5.250000</td>\n",
       "      <td>0.000000</td>\n",
       "    </tr>\n",
       "    <tr>\n",
       "      <th>50%</th>\n",
       "      <td>49.000000</td>\n",
       "      <td>1.000000</td>\n",
       "      <td>3.000000</td>\n",
       "      <td>129.00000</td>\n",
       "      <td>249.000000</td>\n",
       "      <td>0.000000</td>\n",
       "      <td>0.000000</td>\n",
       "      <td>143.000000</td>\n",
       "      <td>0.000000</td>\n",
       "      <td>0.000000</td>\n",
       "      <td>2.000000</td>\n",
       "      <td>0.0</td>\n",
       "      <td>6.000000</td>\n",
       "      <td>0.000000</td>\n",
       "    </tr>\n",
       "    <tr>\n",
       "      <th>75%</th>\n",
       "      <td>53.000000</td>\n",
       "      <td>1.000000</td>\n",
       "      <td>4.000000</td>\n",
       "      <td>140.00000</td>\n",
       "      <td>277.000000</td>\n",
       "      <td>0.000000</td>\n",
       "      <td>0.000000</td>\n",
       "      <td>157.000000</td>\n",
       "      <td>0.000000</td>\n",
       "      <td>1.000000</td>\n",
       "      <td>2.000000</td>\n",
       "      <td>0.0</td>\n",
       "      <td>7.000000</td>\n",
       "      <td>0.000000</td>\n",
       "    </tr>\n",
       "    <tr>\n",
       "      <th>max</th>\n",
       "      <td>66.000000</td>\n",
       "      <td>1.000000</td>\n",
       "      <td>4.000000</td>\n",
       "      <td>200.00000</td>\n",
       "      <td>603.000000</td>\n",
       "      <td>1.000000</td>\n",
       "      <td>2.000000</td>\n",
       "      <td>190.000000</td>\n",
       "      <td>1.000000</td>\n",
       "      <td>5.000000</td>\n",
       "      <td>3.000000</td>\n",
       "      <td>0.0</td>\n",
       "      <td>7.000000</td>\n",
       "      <td>1.000000</td>\n",
       "    </tr>\n",
       "  </tbody>\n",
       "</table>\n",
       "</div>"
      ],
      "text/plain": [
       "               age          sex           cp    trestbps         chol  \\\n",
       "count  1289.000000  1289.000000  1289.000000  1288.00000  1280.000000   \n",
       "mean     47.920093     0.698216     2.747091   130.17236   249.058594   \n",
       "std       6.985720     0.459210     0.861329    14.14839    57.451224   \n",
       "min      28.000000     0.000000     1.000000    92.00000    85.000000   \n",
       "25%      43.000000     0.000000     2.000000   120.00000   213.000000   \n",
       "50%      49.000000     1.000000     3.000000   129.00000   249.000000   \n",
       "75%      53.000000     1.000000     4.000000   140.00000   277.000000   \n",
       "max      66.000000     1.000000     4.000000   200.00000   603.000000   \n",
       "\n",
       "               fbs      restecg      thalach        exang      oldpeak  \\\n",
       "count  1289.000000  1289.000000  1288.000000  1288.000000  1289.000000   \n",
       "mean      0.065943     0.201707   142.256988     0.201087     0.397207   \n",
       "std       0.248278     0.440176    20.487075     0.400969     0.713191   \n",
       "min       0.000000     0.000000    82.000000     0.000000     0.000000   \n",
       "25%       0.000000     0.000000   130.000000     0.000000     0.000000   \n",
       "50%       0.000000     0.000000   143.000000     0.000000     0.000000   \n",
       "75%       0.000000     0.000000   157.000000     0.000000     1.000000   \n",
       "max       1.000000     2.000000   190.000000     1.000000     5.000000   \n",
       "\n",
       "            slope   ca       thal          num  \n",
       "count  104.000000  3.0  28.000000  1289.000000  \n",
       "mean     1.894231  0.0   5.642857     0.176881  \n",
       "std      0.338995  0.0   1.615074     0.381716  \n",
       "min      1.000000  0.0   3.000000     0.000000  \n",
       "25%      2.000000  0.0   5.250000     0.000000  \n",
       "50%      2.000000  0.0   6.000000     0.000000  \n",
       "75%      2.000000  0.0   7.000000     0.000000  \n",
       "max      3.000000  0.0   7.000000     1.000000  "
      ]
     },
     "execution_count": 105,
     "metadata": {},
     "output_type": "execute_result"
    }
   ],
   "source": [
    "merged.describe()"
   ]
  },
  {
   "cell_type": "code",
   "execution_count": 106,
   "metadata": {},
   "outputs": [
    {
     "data": {
      "text/html": [
       "<div>\n",
       "<style scoped>\n",
       "    .dataframe tbody tr th:only-of-type {\n",
       "        vertical-align: middle;\n",
       "    }\n",
       "\n",
       "    .dataframe tbody tr th {\n",
       "        vertical-align: top;\n",
       "    }\n",
       "\n",
       "    .dataframe thead th {\n",
       "        text-align: right;\n",
       "    }\n",
       "</style>\n",
       "<table border=\"1\" class=\"dataframe\">\n",
       "  <thead>\n",
       "    <tr style=\"text-align: right;\">\n",
       "      <th></th>\n",
       "      <th>age</th>\n",
       "      <th>sex</th>\n",
       "      <th>cp</th>\n",
       "      <th>trestbps</th>\n",
       "      <th>chol</th>\n",
       "      <th>fbs</th>\n",
       "      <th>restecg</th>\n",
       "      <th>thalach</th>\n",
       "      <th>exang</th>\n",
       "      <th>oldpeak</th>\n",
       "      <th>slope</th>\n",
       "      <th>ca</th>\n",
       "      <th>thal</th>\n",
       "      <th>num</th>\n",
       "    </tr>\n",
       "  </thead>\n",
       "  <tbody>\n",
       "    <tr>\n",
       "      <th>17</th>\n",
       "      <td>60</td>\n",
       "      <td>1</td>\n",
       "      <td>3</td>\n",
       "      <td>120.0</td>\n",
       "      <td>246.0</td>\n",
       "      <td>0</td>\n",
       "      <td>2</td>\n",
       "      <td>135.0</td>\n",
       "      <td>0.0</td>\n",
       "      <td>0.0</td>\n",
       "      <td>NaN</td>\n",
       "      <td>NaN</td>\n",
       "      <td>NaN</td>\n",
       "      <td>0</td>\n",
       "    </tr>\n",
       "    <tr>\n",
       "      <th>21</th>\n",
       "      <td>55</td>\n",
       "      <td>0</td>\n",
       "      <td>2</td>\n",
       "      <td>130.0</td>\n",
       "      <td>394.0</td>\n",
       "      <td>0</td>\n",
       "      <td>2</td>\n",
       "      <td>150.0</td>\n",
       "      <td>0.0</td>\n",
       "      <td>0.0</td>\n",
       "      <td>NaN</td>\n",
       "      <td>NaN</td>\n",
       "      <td>NaN</td>\n",
       "      <td>0</td>\n",
       "    </tr>\n",
       "    <tr>\n",
       "      <th>81</th>\n",
       "      <td>28</td>\n",
       "      <td>1</td>\n",
       "      <td>2</td>\n",
       "      <td>130.0</td>\n",
       "      <td>132.0</td>\n",
       "      <td>0</td>\n",
       "      <td>2</td>\n",
       "      <td>185.0</td>\n",
       "      <td>0.0</td>\n",
       "      <td>0.0</td>\n",
       "      <td>NaN</td>\n",
       "      <td>NaN</td>\n",
       "      <td>NaN</td>\n",
       "      <td>0</td>\n",
       "    </tr>\n",
       "    <tr>\n",
       "      <th>133</th>\n",
       "      <td>35</td>\n",
       "      <td>1</td>\n",
       "      <td>2</td>\n",
       "      <td>120.0</td>\n",
       "      <td>308.0</td>\n",
       "      <td>0</td>\n",
       "      <td>2</td>\n",
       "      <td>180.0</td>\n",
       "      <td>0.0</td>\n",
       "      <td>0.0</td>\n",
       "      <td>NaN</td>\n",
       "      <td>NaN</td>\n",
       "      <td>NaN</td>\n",
       "      <td>0</td>\n",
       "    </tr>\n",
       "    <tr>\n",
       "      <th>154</th>\n",
       "      <td>55</td>\n",
       "      <td>1</td>\n",
       "      <td>3</td>\n",
       "      <td>120.0</td>\n",
       "      <td>220.0</td>\n",
       "      <td>0</td>\n",
       "      <td>2</td>\n",
       "      <td>134.0</td>\n",
       "      <td>0.0</td>\n",
       "      <td>0.0</td>\n",
       "      <td>NaN</td>\n",
       "      <td>NaN</td>\n",
       "      <td>NaN</td>\n",
       "      <td>0</td>\n",
       "    </tr>\n",
       "    <tr>\n",
       "      <th>188</th>\n",
       "      <td>59</td>\n",
       "      <td>1</td>\n",
       "      <td>4</td>\n",
       "      <td>140.0</td>\n",
       "      <td>264.0</td>\n",
       "      <td>1</td>\n",
       "      <td>2</td>\n",
       "      <td>119.0</td>\n",
       "      <td>1.0</td>\n",
       "      <td>0.0</td>\n",
       "      <td>2.0</td>\n",
       "      <td>NaN</td>\n",
       "      <td>NaN</td>\n",
       "      <td>1</td>\n",
       "    </tr>\n",
       "    <tr>\n",
       "      <th>212</th>\n",
       "      <td>53</td>\n",
       "      <td>0</td>\n",
       "      <td>2</td>\n",
       "      <td>133.0</td>\n",
       "      <td>397.0</td>\n",
       "      <td>0</td>\n",
       "      <td>2</td>\n",
       "      <td>153.0</td>\n",
       "      <td>0.0</td>\n",
       "      <td>0.0</td>\n",
       "      <td>NaN</td>\n",
       "      <td>NaN</td>\n",
       "      <td>7.0</td>\n",
       "      <td>0</td>\n",
       "    </tr>\n",
       "    <tr>\n",
       "      <th>372</th>\n",
       "      <td>55</td>\n",
       "      <td>1</td>\n",
       "      <td>3</td>\n",
       "      <td>120.0</td>\n",
       "      <td>220.0</td>\n",
       "      <td>0</td>\n",
       "      <td>2</td>\n",
       "      <td>134.0</td>\n",
       "      <td>0.0</td>\n",
       "      <td>0.0</td>\n",
       "      <td>NaN</td>\n",
       "      <td>NaN</td>\n",
       "      <td>NaN</td>\n",
       "      <td>0</td>\n",
       "    </tr>\n",
       "    <tr>\n",
       "      <th>437</th>\n",
       "      <td>60</td>\n",
       "      <td>1</td>\n",
       "      <td>3</td>\n",
       "      <td>124.0</td>\n",
       "      <td>247.0</td>\n",
       "      <td>0</td>\n",
       "      <td>2</td>\n",
       "      <td>136.0</td>\n",
       "      <td>0.0</td>\n",
       "      <td>0.0</td>\n",
       "      <td>NaN</td>\n",
       "      <td>NaN</td>\n",
       "      <td>NaN</td>\n",
       "      <td>0</td>\n",
       "    </tr>\n",
       "    <tr>\n",
       "      <th>516</th>\n",
       "      <td>60</td>\n",
       "      <td>1</td>\n",
       "      <td>3</td>\n",
       "      <td>120.0</td>\n",
       "      <td>246.0</td>\n",
       "      <td>0</td>\n",
       "      <td>2</td>\n",
       "      <td>135.0</td>\n",
       "      <td>0.0</td>\n",
       "      <td>0.0</td>\n",
       "      <td>NaN</td>\n",
       "      <td>NaN</td>\n",
       "      <td>NaN</td>\n",
       "      <td>0</td>\n",
       "    </tr>\n",
       "    <tr>\n",
       "      <th>533</th>\n",
       "      <td>60</td>\n",
       "      <td>1</td>\n",
       "      <td>3</td>\n",
       "      <td>120.0</td>\n",
       "      <td>247.0</td>\n",
       "      <td>0</td>\n",
       "      <td>2</td>\n",
       "      <td>135.0</td>\n",
       "      <td>0.0</td>\n",
       "      <td>0.0</td>\n",
       "      <td>NaN</td>\n",
       "      <td>NaN</td>\n",
       "      <td>NaN</td>\n",
       "      <td>0</td>\n",
       "    </tr>\n",
       "    <tr>\n",
       "      <th>621</th>\n",
       "      <td>55</td>\n",
       "      <td>1</td>\n",
       "      <td>3</td>\n",
       "      <td>120.0</td>\n",
       "      <td>220.0</td>\n",
       "      <td>0</td>\n",
       "      <td>2</td>\n",
       "      <td>135.0</td>\n",
       "      <td>0.0</td>\n",
       "      <td>0.0</td>\n",
       "      <td>NaN</td>\n",
       "      <td>NaN</td>\n",
       "      <td>NaN</td>\n",
       "      <td>0</td>\n",
       "    </tr>\n",
       "    <tr>\n",
       "      <th>632</th>\n",
       "      <td>35</td>\n",
       "      <td>1</td>\n",
       "      <td>2</td>\n",
       "      <td>120.0</td>\n",
       "      <td>308.0</td>\n",
       "      <td>0</td>\n",
       "      <td>2</td>\n",
       "      <td>180.0</td>\n",
       "      <td>0.0</td>\n",
       "      <td>0.0</td>\n",
       "      <td>NaN</td>\n",
       "      <td>NaN</td>\n",
       "      <td>NaN</td>\n",
       "      <td>0</td>\n",
       "    </tr>\n",
       "    <tr>\n",
       "      <th>773</th>\n",
       "      <td>55</td>\n",
       "      <td>0</td>\n",
       "      <td>2</td>\n",
       "      <td>130.0</td>\n",
       "      <td>393.0</td>\n",
       "      <td>0</td>\n",
       "      <td>2</td>\n",
       "      <td>151.0</td>\n",
       "      <td>0.0</td>\n",
       "      <td>0.0</td>\n",
       "      <td>NaN</td>\n",
       "      <td>NaN</td>\n",
       "      <td>NaN</td>\n",
       "      <td>0</td>\n",
       "    </tr>\n",
       "    <tr>\n",
       "      <th>889</th>\n",
       "      <td>37</td>\n",
       "      <td>1</td>\n",
       "      <td>2</td>\n",
       "      <td>120.0</td>\n",
       "      <td>302.0</td>\n",
       "      <td>0</td>\n",
       "      <td>2</td>\n",
       "      <td>173.0</td>\n",
       "      <td>0.0</td>\n",
       "      <td>0.0</td>\n",
       "      <td>NaN</td>\n",
       "      <td>NaN</td>\n",
       "      <td>NaN</td>\n",
       "      <td>0</td>\n",
       "    </tr>\n",
       "    <tr>\n",
       "      <th>933</th>\n",
       "      <td>54</td>\n",
       "      <td>0</td>\n",
       "      <td>2</td>\n",
       "      <td>131.0</td>\n",
       "      <td>390.0</td>\n",
       "      <td>0</td>\n",
       "      <td>2</td>\n",
       "      <td>152.0</td>\n",
       "      <td>0.0</td>\n",
       "      <td>0.0</td>\n",
       "      <td>NaN</td>\n",
       "      <td>NaN</td>\n",
       "      <td>NaN</td>\n",
       "      <td>0</td>\n",
       "    </tr>\n",
       "    <tr>\n",
       "      <th>981</th>\n",
       "      <td>35</td>\n",
       "      <td>1</td>\n",
       "      <td>2</td>\n",
       "      <td>120.0</td>\n",
       "      <td>306.0</td>\n",
       "      <td>0</td>\n",
       "      <td>2</td>\n",
       "      <td>181.0</td>\n",
       "      <td>0.0</td>\n",
       "      <td>0.0</td>\n",
       "      <td>NaN</td>\n",
       "      <td>NaN</td>\n",
       "      <td>NaN</td>\n",
       "      <td>0</td>\n",
       "    </tr>\n",
       "    <tr>\n",
       "      <th>1040</th>\n",
       "      <td>59</td>\n",
       "      <td>1</td>\n",
       "      <td>3</td>\n",
       "      <td>120.0</td>\n",
       "      <td>248.0</td>\n",
       "      <td>0</td>\n",
       "      <td>2</td>\n",
       "      <td>135.0</td>\n",
       "      <td>0.0</td>\n",
       "      <td>0.0</td>\n",
       "      <td>NaN</td>\n",
       "      <td>NaN</td>\n",
       "      <td>NaN</td>\n",
       "      <td>0</td>\n",
       "    </tr>\n",
       "    <tr>\n",
       "      <th>1053</th>\n",
       "      <td>28</td>\n",
       "      <td>1</td>\n",
       "      <td>2</td>\n",
       "      <td>130.0</td>\n",
       "      <td>132.0</td>\n",
       "      <td>0</td>\n",
       "      <td>2</td>\n",
       "      <td>185.0</td>\n",
       "      <td>0.0</td>\n",
       "      <td>0.0</td>\n",
       "      <td>NaN</td>\n",
       "      <td>NaN</td>\n",
       "      <td>NaN</td>\n",
       "      <td>0</td>\n",
       "    </tr>\n",
       "    <tr>\n",
       "      <th>1139</th>\n",
       "      <td>59</td>\n",
       "      <td>1</td>\n",
       "      <td>4</td>\n",
       "      <td>141.0</td>\n",
       "      <td>262.0</td>\n",
       "      <td>1</td>\n",
       "      <td>2</td>\n",
       "      <td>117.0</td>\n",
       "      <td>1.0</td>\n",
       "      <td>0.0</td>\n",
       "      <td>NaN</td>\n",
       "      <td>NaN</td>\n",
       "      <td>NaN</td>\n",
       "      <td>1</td>\n",
       "    </tr>\n",
       "    <tr>\n",
       "      <th>1184</th>\n",
       "      <td>57</td>\n",
       "      <td>1</td>\n",
       "      <td>4</td>\n",
       "      <td>136.0</td>\n",
       "      <td>276.0</td>\n",
       "      <td>1</td>\n",
       "      <td>2</td>\n",
       "      <td>112.0</td>\n",
       "      <td>1.0</td>\n",
       "      <td>0.0</td>\n",
       "      <td>NaN</td>\n",
       "      <td>NaN</td>\n",
       "      <td>NaN</td>\n",
       "      <td>1</td>\n",
       "    </tr>\n",
       "  </tbody>\n",
       "</table>\n",
       "</div>"
      ],
      "text/plain": [
       "      age  sex  cp  trestbps   chol  fbs  restecg  thalach  exang  oldpeak  \\\n",
       "17     60    1   3     120.0  246.0    0        2    135.0    0.0      0.0   \n",
       "21     55    0   2     130.0  394.0    0        2    150.0    0.0      0.0   \n",
       "81     28    1   2     130.0  132.0    0        2    185.0    0.0      0.0   \n",
       "133    35    1   2     120.0  308.0    0        2    180.0    0.0      0.0   \n",
       "154    55    1   3     120.0  220.0    0        2    134.0    0.0      0.0   \n",
       "188    59    1   4     140.0  264.0    1        2    119.0    1.0      0.0   \n",
       "212    53    0   2     133.0  397.0    0        2    153.0    0.0      0.0   \n",
       "372    55    1   3     120.0  220.0    0        2    134.0    0.0      0.0   \n",
       "437    60    1   3     124.0  247.0    0        2    136.0    0.0      0.0   \n",
       "516    60    1   3     120.0  246.0    0        2    135.0    0.0      0.0   \n",
       "533    60    1   3     120.0  247.0    0        2    135.0    0.0      0.0   \n",
       "621    55    1   3     120.0  220.0    0        2    135.0    0.0      0.0   \n",
       "632    35    1   2     120.0  308.0    0        2    180.0    0.0      0.0   \n",
       "773    55    0   2     130.0  393.0    0        2    151.0    0.0      0.0   \n",
       "889    37    1   2     120.0  302.0    0        2    173.0    0.0      0.0   \n",
       "933    54    0   2     131.0  390.0    0        2    152.0    0.0      0.0   \n",
       "981    35    1   2     120.0  306.0    0        2    181.0    0.0      0.0   \n",
       "1040   59    1   3     120.0  248.0    0        2    135.0    0.0      0.0   \n",
       "1053   28    1   2     130.0  132.0    0        2    185.0    0.0      0.0   \n",
       "1139   59    1   4     141.0  262.0    1        2    117.0    1.0      0.0   \n",
       "1184   57    1   4     136.0  276.0    1        2    112.0    1.0      0.0   \n",
       "\n",
       "      slope  ca  thal  num  \n",
       "17      NaN NaN   NaN    0  \n",
       "21      NaN NaN   NaN    0  \n",
       "81      NaN NaN   NaN    0  \n",
       "133     NaN NaN   NaN    0  \n",
       "154     NaN NaN   NaN    0  \n",
       "188     2.0 NaN   NaN    1  \n",
       "212     NaN NaN   7.0    0  \n",
       "372     NaN NaN   NaN    0  \n",
       "437     NaN NaN   NaN    0  \n",
       "516     NaN NaN   NaN    0  \n",
       "533     NaN NaN   NaN    0  \n",
       "621     NaN NaN   NaN    0  \n",
       "632     NaN NaN   NaN    0  \n",
       "773     NaN NaN   NaN    0  \n",
       "889     NaN NaN   NaN    0  \n",
       "933     NaN NaN   NaN    0  \n",
       "981     NaN NaN   NaN    0  \n",
       "1040    NaN NaN   NaN    0  \n",
       "1053    NaN NaN   NaN    0  \n",
       "1139    NaN NaN   NaN    1  \n",
       "1184    NaN NaN   NaN    1  "
      ]
     },
     "execution_count": 106,
     "metadata": {},
     "output_type": "execute_result"
    }
   ],
   "source": [
    "merged[merged['restecg'] == 2]"
   ]
  },
  {
   "cell_type": "markdown",
   "metadata": {},
   "source": [
    "### Exploratory Data Analysis"
   ]
  },
  {
   "cell_type": "code",
   "execution_count": 107,
   "metadata": {},
   "outputs": [
    {
     "data": {
      "text/plain": [
       "<matplotlib.axes._subplots.AxesSubplot at 0x1528c14ef60>"
      ]
     },
     "execution_count": 107,
     "metadata": {},
     "output_type": "execute_result"
    },
    {
     "data": {
      "image/png": "[encoded data removed]",
      "text/plain": [
       "<Figure size 432x288 with 1 Axes>"
      ]
     },
     "metadata": {
      "needs_background": "light"
     },
     "output_type": "display_data"
    }
   ],
   "source": [
    "sns.countplot(x='num', data=merged)"
   ]
  },
  {
   "cell_type": "code",
   "execution_count": 108,
   "metadata": {},
   "outputs": [
    {
     "data": {
      "text/plain": [
       "<matplotlib.axes._subplots.AxesSubplot at 0x1528db629e8>"
      ]
     },
     "execution_count": 108,
     "metadata": {},
     "output_type": "execute_result"
    },
    {
     "data": {
      "image/png": "[encoded data removed]",
      "text/plain": [
       "<Figure size 432x288 with 1 Axes>"
      ]
     },
     "metadata": {
      "needs_background": "light"
     },
     "output_type": "display_data"
    }
   ],
   "source": [
    "sns.countplot(x='num', data=train)"
   ]
  },
  {
   "cell_type": "code",
   "execution_count": 109,
   "metadata": {},
   "outputs": [
    {
     "data": {
      "text/plain": [
       "0    1000\n",
       "1     200\n",
       "Name: num, dtype: int64"
      ]
     },
     "execution_count": 109,
     "metadata": {},
     "output_type": "execute_result"
    }
   ],
   "source": [
    "train['num'].value_counts()"
   ]
  },
  {
   "cell_type": "code",
   "execution_count": 110,
   "metadata": {},
   "outputs": [
    {
     "data": {
      "text/plain": [
       "0    1061\n",
       "1     228\n",
       "Name: num, dtype: int64"
      ]
     },
     "execution_count": 110,
     "metadata": {},
     "output_type": "execute_result"
    }
   ],
   "source": [
    "merged['num'].value_counts()"
   ]
  },
  {
   "cell_type": "code",
   "execution_count": 111,
   "metadata": {},
   "outputs": [
    {
     "data": {
      "text/plain": [
       "<matplotlib.axes._subplots.AxesSubplot at 0x1528d8ea048>"
      ]
     },
     "execution_count": 111,
     "metadata": {},
     "output_type": "execute_result"
    },
    {
     "data": {
      "image/png": "[encoded data removed]",
      "text/plain": [
       "<Figure size 432x288 with 1 Axes>"
      ]
     },
     "metadata": {
      "needs_background": "light"
     },
     "output_type": "display_data"
    }
   ],
   "source": [
    "sns.distplot(merged['age'])"
   ]
  },
  {
   "cell_type": "code",
   "execution_count": 112,
   "metadata": {},
   "outputs": [],
   "source": [
    "merged['num'] = merged['num'].astype('category')"
   ]
  },
  {
   "cell_type": "code",
   "execution_count": 113,
   "metadata": {},
   "outputs": [
    {
     "data": {
      "text/plain": [
       "<seaborn.axisgrid.FacetGrid at 0x1528d98aef0>"
      ]
     },
     "execution_count": 113,
     "metadata": {},
     "output_type": "execute_result"
    },
    {
     "data": {
      "image/png": "[encoded data removed]",
      "text/plain": [
       "<Figure size 720x360 with 2 Axes>"
      ]
     },
     "metadata": {
      "needs_background": "light"
     },
     "output_type": "display_data"
    }
   ],
   "source": [
    "sns.catplot('sex', col='num', data=merged, kind='count')"
   ]
  },
  {
   "cell_type": "code",
   "execution_count": 143,
   "metadata": {},
   "outputs": [
    {
     "data": {
      "text/html": [
       "<div>\n",
       "<style scoped>\n",
       "    .dataframe tbody tr th:only-of-type {\n",
       "        vertical-align: middle;\n",
       "    }\n",
       "\n",
       "    .dataframe tbody tr th {\n",
       "        vertical-align: top;\n",
       "    }\n",
       "\n",
       "    .dataframe thead th {\n",
       "        text-align: right;\n",
       "    }\n",
       "</style>\n",
       "<table border=\"1\" class=\"dataframe\">\n",
       "  <thead>\n",
       "    <tr style=\"text-align: right;\">\n",
       "      <th></th>\n",
       "      <th>age</th>\n",
       "      <th>sex</th>\n",
       "      <th>cp</th>\n",
       "      <th>trestbps</th>\n",
       "      <th>chol</th>\n",
       "      <th>fbs</th>\n",
       "      <th>restecg</th>\n",
       "      <th>thalach</th>\n",
       "      <th>exang</th>\n",
       "      <th>oldpeak</th>\n",
       "      <th>num</th>\n",
       "    </tr>\n",
       "  </thead>\n",
       "  <tbody>\n",
       "    <tr>\n",
       "      <th>0</th>\n",
       "      <td>51</td>\n",
       "      <td>0</td>\n",
       "      <td>3</td>\n",
       "      <td>130.0</td>\n",
       "      <td>220.0</td>\n",
       "      <td>0</td>\n",
       "      <td>0</td>\n",
       "      <td>160.0</td>\n",
       "      <td>1.0</td>\n",
       "      <td>2.0</td>\n",
       "      <td>0</td>\n",
       "    </tr>\n",
       "    <tr>\n",
       "      <th>1</th>\n",
       "      <td>54</td>\n",
       "      <td>1</td>\n",
       "      <td>4</td>\n",
       "      <td>125.0</td>\n",
       "      <td>216.0</td>\n",
       "      <td>0</td>\n",
       "      <td>0</td>\n",
       "      <td>140.0</td>\n",
       "      <td>0.0</td>\n",
       "      <td>0.0</td>\n",
       "      <td>1</td>\n",
       "    </tr>\n",
       "    <tr>\n",
       "      <th>2</th>\n",
       "      <td>48</td>\n",
       "      <td>1</td>\n",
       "      <td>2</td>\n",
       "      <td>100.0</td>\n",
       "      <td>252.0</td>\n",
       "      <td>0</td>\n",
       "      <td>0</td>\n",
       "      <td>100.0</td>\n",
       "      <td>0.0</td>\n",
       "      <td>0.0</td>\n",
       "      <td>0</td>\n",
       "    </tr>\n",
       "    <tr>\n",
       "      <th>3</th>\n",
       "      <td>36</td>\n",
       "      <td>1</td>\n",
       "      <td>3</td>\n",
       "      <td>130.0</td>\n",
       "      <td>209.0</td>\n",
       "      <td>0</td>\n",
       "      <td>0</td>\n",
       "      <td>178.0</td>\n",
       "      <td>0.0</td>\n",
       "      <td>0.0</td>\n",
       "      <td>0</td>\n",
       "    </tr>\n",
       "    <tr>\n",
       "      <th>4</th>\n",
       "      <td>56</td>\n",
       "      <td>1</td>\n",
       "      <td>4</td>\n",
       "      <td>120.0</td>\n",
       "      <td>85.0</td>\n",
       "      <td>0</td>\n",
       "      <td>0</td>\n",
       "      <td>140.0</td>\n",
       "      <td>0.0</td>\n",
       "      <td>0.0</td>\n",
       "      <td>0</td>\n",
       "    </tr>\n",
       "  </tbody>\n",
       "</table>\n",
       "</div>"
      ],
      "text/plain": [
       "   age sex cp  trestbps   chol fbs restecg  thalach exang  oldpeak num\n",
       "0   51   0  3     130.0  220.0   0       0    160.0   1.0      2.0   0\n",
       "1   54   1  4     125.0  216.0   0       0    140.0   0.0      0.0   1\n",
       "2   48   1  2     100.0  252.0   0       0    100.0   0.0      0.0   0\n",
       "3   36   1  3     130.0  209.0   0       0    178.0   0.0      0.0   0\n",
       "4   56   1  4     120.0   85.0   0       0    140.0   0.0      0.0   0"
      ]
     },
     "execution_count": 143,
     "metadata": {},
     "output_type": "execute_result"
    }
   ],
   "source": [
    "merged.head()"
   ]
  },
  {
   "cell_type": "code",
   "execution_count": 144,
   "metadata": {},
   "outputs": [
    {
     "data": {
      "text/plain": [
       "<matplotlib.axes._subplots.AxesSubplot at 0x1528d98ada0>"
      ]
     },
     "execution_count": 144,
     "metadata": {},
     "output_type": "execute_result"
    },
    {
     "data": {
      "image/png": "[encoded data removed]",
      "text/plain": [
       "<Figure size 432x288 with 1 Axes>"
      ]
     },
     "metadata": {
      "needs_background": "light"
     },
     "output_type": "display_data"
    }
   ],
   "source": [
    "sns.boxplot(merged['chol'])"
   ]
  },
  {
   "cell_type": "code",
   "execution_count": 115,
   "metadata": {},
   "outputs": [
    {
     "data": {
      "image/png": "[encoded data removed]",
      "text/plain": [
       "<Figure size 720x720 with 2 Axes>"
      ]
     },
     "metadata": {
      "needs_background": "light"
     },
     "output_type": "display_data"
    }
   ],
   "source": [
    "def heatMap(df):\n",
    "    #Create Correlation df\n",
    "    corr = df.corr()\n",
    "    #Plot figsize\n",
    "    fig, ax = plt.subplots(figsize=(10, 10))\n",
    "    #Generate Color Map\n",
    "    colormap = sns.diverging_palette(220, 10, as_cmap=True)\n",
    "    #Generate Heat Map, allow annotations and place floats in map\n",
    "    sns.heatmap(corr, cmap=colormap, annot=True, fmt=\".2f\")\n",
    "    #Apply xticks\n",
    "    plt.xticks(range(len(corr.columns)), corr.columns);\n",
    "    #Apply yticks\n",
    "    plt.yticks(range(len(corr.columns)), corr.columns)\n",
    "    #show plot\n",
    "    plt.show()\n",
    "heatMap(merged)"
   ]
  },
  {
   "cell_type": "markdown",
   "metadata": {},
   "source": [
    "### Data Preprocessing"
   ]
  },
  {
   "cell_type": "markdown",
   "metadata": {},
   "source": [
    "#### Missing Value Imputation"
   ]
  },
  {
   "cell_type": "code",
   "execution_count": 116,
   "metadata": {},
   "outputs": [],
   "source": [
    "col_to_impute = [\"trestbps\", \"chol\", \"thalach\", \"exang\"]\n",
    "\n",
    "# for exang median == mode since it's only binary\n",
    "for col in col_to_impute:\n",
    "    train[col] = train[col].fillna(train[col].median())\n",
    "    merged[col] = merged[col].fillna(merged[col].median())"
   ]
  },
  {
   "cell_type": "code",
   "execution_count": 117,
   "metadata": {},
   "outputs": [
    {
     "name": "stdout",
     "output_type": "stream",
     "text": [
      "<class 'pandas.core.frame.DataFrame'>\n",
      "RangeIndex: 1289 entries, 0 to 1288\n",
      "Data columns (total 14 columns):\n",
      "age         1289 non-null int64\n",
      "sex         1289 non-null int64\n",
      "cp          1289 non-null int64\n",
      "trestbps    1289 non-null float64\n",
      "chol        1289 non-null float64\n",
      "fbs         1289 non-null int64\n",
      "restecg     1289 non-null int64\n",
      "thalach     1289 non-null float64\n",
      "exang       1289 non-null float64\n",
      "oldpeak     1289 non-null float64\n",
      "slope       104 non-null float64\n",
      "ca          3 non-null float64\n",
      "thal        28 non-null float64\n",
      "num         1289 non-null category\n",
      "dtypes: category(1), float64(8), int64(5)\n",
      "memory usage: 132.3 KB\n"
     ]
    }
   ],
   "source": [
    "merged.info()"
   ]
  },
  {
   "cell_type": "code",
   "execution_count": 118,
   "metadata": {},
   "outputs": [
    {
     "name": "stdout",
     "output_type": "stream",
     "text": [
      "<class 'pandas.core.frame.DataFrame'>\n",
      "RangeIndex: 1200 entries, 0 to 1199\n",
      "Data columns (total 14 columns):\n",
      "age         1200 non-null int64\n",
      "sex         1200 non-null int64\n",
      "cp          1200 non-null int64\n",
      "trestbps    1200 non-null float64\n",
      "chol        1200 non-null float64\n",
      "fbs         1200 non-null int64\n",
      "restecg     1200 non-null int64\n",
      "thalach     1200 non-null float64\n",
      "exang       1200 non-null float64\n",
      "oldpeak     1200 non-null int64\n",
      "slope       71 non-null float64\n",
      "ca          3 non-null float64\n",
      "thal        19 non-null float64\n",
      "num         1200 non-null int64\n",
      "dtypes: float64(7), int64(7)\n",
      "memory usage: 131.3 KB\n"
     ]
    }
   ],
   "source": [
    "train.info()"
   ]
  },
  {
   "cell_type": "markdown",
   "metadata": {},
   "source": [
    "#### Feature Selection"
   ]
  },
  {
   "cell_type": "code",
   "execution_count": 119,
   "metadata": {},
   "outputs": [],
   "source": [
    "train = train.drop(columns=['slope', 'ca', 'thal'])\n",
    "merged = merged.drop(columns=['slope', 'ca', 'thal'])"
   ]
  },
  {
   "cell_type": "code",
   "execution_count": 120,
   "metadata": {},
   "outputs": [],
   "source": [
    "train['restecg'] = train['restecg'].apply(lambda x: 1 if x == 2 else x)\n",
    "merged['restecg'] = merged['restecg'].apply(lambda x: 1 if x == 2 else x)"
   ]
  },
  {
   "cell_type": "code",
   "execution_count": 121,
   "metadata": {},
   "outputs": [],
   "source": [
    "categorical_col = ['sex', 'cp', 'fbs', 'restecg', 'exang']\n",
    "for col in categorical_col:\n",
    "    train[col] = train[col].astype(\"category\")\n",
    "    merged[col] = merged[col].astype(\"category\")"
   ]
  },
  {
   "cell_type": "code",
   "execution_count": 122,
   "metadata": {},
   "outputs": [],
   "source": [
    "from sklearn.preprocessing import StandardScaler, RobustScaler, MinMaxScaler\n",
    "scaler = RobustScaler()"
   ]
  },
  {
   "cell_type": "code",
   "execution_count": 123,
   "metadata": {},
   "outputs": [],
   "source": [
    "# for i in df.columns:\n",
    "#     print('\\nAttribute-',i,':',df[i].dtypes)\n",
    "#     Q1=df[i].quantile(0.25)\n",
    "#     print('Q1',Q1)\n",
    "#     Q3=df[i].quantile(0.75)\n",
    "#     print('Q3',Q3)\n",
    "#     IQR=Q3-Q1\n",
    "#     print('IQR',IQR)\n",
    "#     min_val=df[i].min()\n",
    "#     max_val=df[i].max()\n",
    "#     min_IQR=Q1-1.5*IQR\n",
    "#     max_IQR=Q3+1.5*IQR \n",
    "#     if (min_val<min_IQR): \n",
    "#         print('Low outlier is found') \n",
    "#     if (max_val>max_IQR): \n",
    "#         print('High outlier is found')"
   ]
  },
  {
   "cell_type": "code",
   "execution_count": 124,
   "metadata": {},
   "outputs": [],
   "source": []
  },
  {
   "cell_type": "code",
   "execution_count": 125,
   "metadata": {},
   "outputs": [],
   "source": [
    "# Q1=df['chol'].quantile(0.25)\n",
    "# Q3=df['chol'].quantile(0.75)\n",
    "# IQR=Q3-Q1\n",
    "# min_val=df['chol'].min()\n",
    "# max_val=df['chol'].max()\n",
    "# min_IQR=Q1-1.5*IQR\n",
    "# max_IQR=Q3+1.5*IQR \n",
    "# df = df[df.chol > min_IQR]\n",
    "# df = df[df.chol < max_IQR]\n",
    "# df.shape"
   ]
  },
  {
   "cell_type": "code",
   "execution_count": 126,
   "metadata": {},
   "outputs": [],
   "source": [
    "X_train = train.drop(columns=['num'])\n",
    "X_train = pd.get_dummies(X_train)\n",
    "X_train = scaler.fit_transform(X_train)\n",
    "y_train = train['num']\n",
    "\n",
    "X = merged.drop(columns=['num'])\n",
    "X = pd.get_dummies(X)\n",
    "X = scaler.fit_transform(X)\n",
    "y = merged['num']"
   ]
  },
  {
   "cell_type": "code",
   "execution_count": 127,
   "metadata": {},
   "outputs": [
    {
     "name": "stdout",
     "output_type": "stream",
     "text": [
      "0    1061\n",
      "1     228\n",
      "Name: num, dtype: int64\n",
      "1    1037\n",
      "0    1025\n",
      "dtype: int64\n"
     ]
    }
   ],
   "source": [
    "# from imblearn.over_sampling import RandomOverSampler\n",
    "# ros = RandomOverSampler(random_state=0)\n",
    "# X_train, y_train = ros.fit_resample(X_train, y_train)\n",
    "# print(pd.Series(y_train).value_counts())\n",
    "\n",
    "# ros = RandomOverSampler(random_state=0)\n",
    "# X, y = ros.fit_resample(X, y)\n",
    "# print(pd.Series(y).value_counts())\n",
    "\n",
    "# from imblearn.under_sampling import ClusterCentroids\n",
    "# cc = ClusterCentroids(random_state=0)\n",
    "# X_train, y_train = cc.fit_resample(X_train, y_train)\n",
    "# print(pd.Series(y_train).value_counts())\n",
    "\n",
    "# cc = ClusterCentroids(random_state=0)\n",
    "# X, y = cc.fit_resample(X, y)\n",
    "# print(pd.Series(y).value_counts())\n",
    "\n",
    "from imblearn.combine import SMOTEENN\n",
    "smote_enn = SMOTEENN(random_state=0)\n",
    "X_train, y_train = smote_enn.fit_resample(X_train, y_train)\n",
    "print(pd.Series(y_train).value_counts())\n",
    "\n",
    "smote_enn = SMOTEENN(random_state=0)\n",
    "X, y = smote_enn.fit_resample(X, y)\n",
    "print(pd.Series(y).value_counts())\n",
    "\n",
    "\n",
    "# from imblearn.combine import SMOTETomek\n",
    "# smote_tomek = SMOTETomek(random_state=0)\n",
    "# X_train, y_train = smote_tomek.fit_resample(X_train, y_train)\n",
    "# print(pd.Series(y_train).value_counts())\n",
    "\n",
    "# smote_tomek = SMOTETomek(random_state=0)\n",
    "# X, y = smote_tomek.fit_resample(X, y)\n",
    "# print(pd.Series(y).value_counts())\n"
   ]
  },
  {
   "cell_type": "code",
   "execution_count": 128,
   "metadata": {},
   "outputs": [],
   "source": [
    "# X_train = X.values\n",
    "# y_train = y.values\n",
    "\n",
    "# X_train_combine = X_combine.values\n",
    "# y_train_combine = y_combine.values"
   ]
  },
  {
   "cell_type": "code",
   "execution_count": 129,
   "metadata": {},
   "outputs": [],
   "source": [
    "from scipy.stats import mode\n",
    "from sklearn.metrics import confusion_matrix, accuracy_score, f1_score, recall_score\n",
    "\n",
    "def purity_score(y_truth, y_predicted):\n",
    "    labels = np.zeros_like(y_predicted)\n",
    "    for i in range(2):\n",
    "        mask = (y_predicted == i)\n",
    "        labels[mask] = mode(y_truth[mask])[0]\n",
    "    return accuracy_score(y_truth, labels)"
   ]
  },
  {
   "cell_type": "markdown",
   "metadata": {},
   "source": [
    "## KMEANS"
   ]
  },
  {
   "cell_type": "code",
   "execution_count": 130,
   "metadata": {},
   "outputs": [],
   "source": [
    "from sklearn.cluster import KMeans"
   ]
  },
  {
   "cell_type": "code",
   "execution_count": 131,
   "metadata": {},
   "outputs": [],
   "source": [
    "kmeans = KMeans(2, random_state=69)\n",
    "kmeans_combine = KMeans(2, random_state=69)"
   ]
  },
  {
   "cell_type": "code",
   "execution_count": 132,
   "metadata": {},
   "outputs": [
    {
     "data": {
      "text/plain": [
       "KMeans(algorithm='auto', copy_x=True, init='k-means++', max_iter=300,\n",
       "       n_clusters=2, n_init=10, n_jobs=None, precompute_distances='auto',\n",
       "       random_state=69, tol=0.0001, verbose=0)"
      ]
     },
     "execution_count": 132,
     "metadata": {},
     "output_type": "execute_result"
    }
   ],
   "source": [
    "kmeans.fit(X_train)\n",
    "kmeans_combine.fit(X)"
   ]
  },
  {
   "cell_type": "code",
   "execution_count": 133,
   "metadata": {},
   "outputs": [
    {
     "name": "stdout",
     "output_type": "stream",
     "text": [
      "Predicted label Train model only :  [1 0 0 ... 0 1 1]\n",
      "Purity Score Train model only :  0.8301217038539553\n",
      "\n",
      "Predicted label Combine model :  [0 1 1 ... 0 1 0]\n",
      "Purity Score Combine model :  0.8288069835111542\n"
     ]
    }
   ],
   "source": [
    "print(\"Predicted label Train model only : \", kmeans.labels_)\n",
    "print(\"Purity Score Train model only : \", purity_score(y_train, kmeans.labels_))\n",
    "\n",
    "print()\n",
    "\n",
    "print(\"Predicted label Combine model : \", kmeans_combine.labels_)\n",
    "print(\"Purity Score Combine model : \", purity_score(y, kmeans_combine.labels_))"
   ]
  },
  {
   "cell_type": "markdown",
   "metadata": {},
   "source": [
    "## Agglomerative"
   ]
  },
  {
   "cell_type": "code",
   "execution_count": 134,
   "metadata": {},
   "outputs": [],
   "source": [
    "from sklearn.cluster import AgglomerativeClustering"
   ]
  },
  {
   "cell_type": "code",
   "execution_count": 135,
   "metadata": {},
   "outputs": [
    {
     "data": {
      "text/plain": [
       "AgglomerativeClustering(affinity='euclidean', compute_full_tree='auto',\n",
       "                        connectivity=None, distance_threshold=None,\n",
       "                        linkage='ward', memory=None, n_clusters=2,\n",
       "                        pooling_func='deprecated')"
      ]
     },
     "execution_count": 135,
     "metadata": {},
     "output_type": "execute_result"
    }
   ],
   "source": [
    "agg = AgglomerativeClustering(2, linkage=\"ward\")\n",
    "agg.fit(X_train)\n",
    "\n",
    "agg_combine = AgglomerativeClustering(2, linkage=\"ward\")\n",
    "agg_combine.fit(X)"
   ]
  },
  {
   "cell_type": "code",
   "execution_count": 136,
   "metadata": {},
   "outputs": [
    {
     "name": "stdout",
     "output_type": "stream",
     "text": [
      "Predicted label Train model only :  [0 1 1 ... 1 0 0]\n",
      "Purity Score Train model only :  0.8407707910750507\n",
      "\n",
      "Predicted label Combine model :  [0 1 1 ... 0 0 0]\n",
      "Purity Score Combine model :  0.8617846750727449\n"
     ]
    }
   ],
   "source": [
    "print(\"Predicted label Train model only : \", agg.labels_)\n",
    "print(\"Purity Score Train model only : \", purity_score(y_train, agg.labels_))\n",
    "\n",
    "print()\n",
    "\n",
    "print(\"Predicted label Combine model : \", agg_combine.labels_)\n",
    "print(\"Purity Score Combine model : \", purity_score(y, agg_combine.labels_))"
   ]
  },
  {
   "cell_type": "code",
   "execution_count": 137,
   "metadata": {},
   "outputs": [
    {
     "name": "stdout",
     "output_type": "stream",
     "text": [
      "Predicted label Train model only :  [0 0 0 ... 0 0 0]\n",
      "Purity Score Train model only :  0.5040567951318459\n",
      "\n",
      "Predicted label Combine model :  [0 0 0 ... 0 0 0]\n",
      "Purity Score Combine model :  0.5033947623666344\n"
     ]
    }
   ],
   "source": [
    "agg = AgglomerativeClustering(2, linkage=\"single\")\n",
    "agg.fit(X_train)\n",
    "\n",
    "agg_combine = AgglomerativeClustering(2, linkage=\"single\")\n",
    "agg_combine.fit(X)\n",
    "\n",
    "print(\"Predicted label Train model only : \", agg.labels_)\n",
    "print(\"Purity Score Train model only : \", purity_score(y_train, agg.labels_))\n",
    "\n",
    "print()\n",
    "\n",
    "print(\"Predicted label Combine model : \", agg_combine.labels_)\n",
    "print(\"Purity Score Combine model : \", purity_score(y, agg_combine.labels_))"
   ]
  },
  {
   "cell_type": "code",
   "execution_count": 138,
   "metadata": {},
   "outputs": [
    {
     "name": "stdout",
     "output_type": "stream",
     "text": [
      "Predicted label Train model only :  [0 0 0 ... 0 0 0]\n",
      "Purity Score Train model only :  0.5167342799188641\n",
      "\n",
      "Predicted label Combine model :  [0 0 0 ... 0 0 0]\n",
      "Purity Score Combine model :  0.5208535402521823\n"
     ]
    }
   ],
   "source": [
    "agg = AgglomerativeClustering(2, linkage=\"complete\")\n",
    "agg.fit(X_train)\n",
    "\n",
    "agg_combine = AgglomerativeClustering(2, linkage=\"complete\")\n",
    "agg_combine.fit(X)\n",
    "\n",
    "print(\"Predicted label Train model only : \", agg.labels_)\n",
    "print(\"Purity Score Train model only : \", purity_score(y_train, agg.labels_))\n",
    "\n",
    "print()\n",
    "\n",
    "print(\"Predicted label Combine model : \", agg_combine.labels_)\n",
    "print(\"Purity Score Combine model : \", purity_score(y, agg_combine.labels_))"
   ]
  },
  {
   "cell_type": "code",
   "execution_count": 139,
   "metadata": {},
   "outputs": [
    {
     "name": "stdout",
     "output_type": "stream",
     "text": [
      "Predicted label Train model only :  [0 0 0 ... 0 0 1]\n",
      "Purity Score Train model only :  0.5289046653144016\n",
      "\n",
      "Predicted label Combine model :  [0 0 0 ... 0 0 0]\n",
      "Purity Score Combine model :  0.502909796314258\n"
     ]
    }
   ],
   "source": [
    "agg = AgglomerativeClustering(2, linkage=\"average\")\n",
    "agg.fit(X_train)\n",
    "\n",
    "agg_combine = AgglomerativeClustering(2, linkage=\"average\")\n",
    "agg_combine.fit(X)\n",
    "\n",
    "print(\"Predicted label Train model only : \", agg.labels_)\n",
    "print(\"Purity Score Train model only : \", purity_score(y_train, agg.labels_))\n",
    "\n",
    "print()\n",
    "\n",
    "print(\"Predicted label Combine model : \", agg_combine.labels_)\n",
    "print(\"Purity Score Combine model : \", purity_score(y, agg_combine.labels_))"
   ]
  },
  {
   "cell_type": "markdown",
   "metadata": {},
   "source": [
    "## DBSCAN"
   ]
  },
  {
   "cell_type": "code",
   "execution_count": 140,
   "metadata": {},
   "outputs": [],
   "source": [
    "from sklearn.cluster import DBSCAN"
   ]
  },
  {
   "cell_type": "code",
   "execution_count": 141,
   "metadata": {},
   "outputs": [
    {
     "data": {
      "text/plain": [
       "DBSCAN(algorithm='auto', eps=1.5, leaf_size=30, metric='euclidean',\n",
       "       metric_params=None, min_samples=3, n_jobs=None, p=None)"
      ]
     },
     "execution_count": 141,
     "metadata": {},
     "output_type": "execute_result"
    }
   ],
   "source": [
    "dbscan_model = DBSCAN(min_samples=3, eps=1.5)\n",
    "dbscan_model.fit(X_train)\n",
    "\n",
    "dbscan_model_combine = DBSCAN(min_samples=3, eps=1.5)\n",
    "dbscan_model_combine.fit(X)"
   ]
  },
  {
   "cell_type": "code",
   "execution_count": 142,
   "metadata": {},
   "outputs": [
    {
     "name": "stdout",
     "output_type": "stream",
     "text": [
      "Predicted label Train model only :  [0 0 0 ... 0 0 8]\n",
      "Purity Score Train model only :  0.4974645030425964\n",
      "\n",
      "Predicted label Combine model :  [0 0 0 ... 0 0 0]\n",
      "Purity Score Combine model :  0.5223084384093113\n"
     ]
    }
   ],
   "source": [
    "print(\"Predicted label Train model only : \", dbscan_model.labels_)\n",
    "print(\"Purity Score Train model only : \", purity_score(y_train, dbscan_model.labels_))\n",
    "\n",
    "print()\n",
    "\n",
    "print(\"Predicted label Combine model : \", dbscan_model_combine.labels_)\n",
    "print(\"Purity Score Combine model : \", purity_score(y, dbscan_model_combine.labels_))"
   ]
  },
  {
   "cell_type": "code",
   "execution_count": null,
   "metadata": {},
   "outputs": [],
   "source": []
  }
 ],
 "metadata": {
  "kernelspec": {
   "display_name": "Python 3",
   "language": "python",
   "name": "python3"
  },
  "language_info": {
   "codemirror_mode": {
    "name": "ipython",
    "version": 3
   },
   "file_extension": ".py",
   "mimetype": "text/x-python",
   "name": "python",
   "nbconvert_exporter": "python",
   "pygments_lexer": "ipython3",
   "version": "3.7.3"
  }
 },
 "nbformat": 4,
 "nbformat_minor": 2
}
