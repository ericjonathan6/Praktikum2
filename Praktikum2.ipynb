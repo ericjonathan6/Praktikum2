{
 "cells": [
  {
   "cell_type": "code",
   "execution_count": 146,
   "metadata": {},
   "outputs": [],
   "source": [
    "import pandas as pd\n",
    "import numpy as np\n"
   ]
  },
  {
   "cell_type": "code",
   "execution_count": 147,
   "metadata": {},
   "outputs": [],
   "source": [
    "df = pd.read_csv('train.csv')\n",
    "df_test = pd.read_csv('test.csv')\n",
    "df_test = df_test.rename(columns={\"num       \":\"num\"})\n",
    "list_df = [df, df_test]"
   ]
  },
  {
   "cell_type": "code",
   "execution_count": 148,
   "metadata": {},
   "outputs": [],
   "source": [
    "df_combine = df.append(df_test)\n",
    "df_combine.reset_index(drop=True, inplace=True)"
   ]
  },
  {
   "cell_type": "code",
   "execution_count": 149,
   "metadata": {},
   "outputs": [
    {
     "name": "stdout",
     "output_type": "stream",
     "text": [
      "(1289, 14)\n"
     ]
    },
    {
     "data": {
      "text/plain": [
       "age            0\n",
       "sex            0\n",
       "cp             0\n",
       "trestbps       0\n",
       "chol           0\n",
       "fbs            0\n",
       "restecg        0\n",
       "thalach        0\n",
       "exang          0\n",
       "oldpeak        0\n",
       "slope       1177\n",
       "ca          1276\n",
       "thal        1251\n",
       "num            0\n",
       "dtype: int64"
      ]
     },
     "execution_count": 149,
     "metadata": {},
     "output_type": "execute_result"
    }
   ],
   "source": [
    "print(df_combine.shape)\n",
    "df_combine = df_combine[df_combine.chol != '?']\n",
    "df_combine = df_combine[df_combine.exang != '?']\n",
    "\n",
    "df_combine.isin(['?']).sum(axis=0)"
   ]
  },
  {
   "cell_type": "code",
   "execution_count": 150,
   "metadata": {},
   "outputs": [
    {
     "data": {
      "text/plain": [
       "age            0\n",
       "sex            0\n",
       "cp             0\n",
       "trestbps       0\n",
       "chol           0\n",
       "fbs            0\n",
       "restecg        0\n",
       "thalach        0\n",
       "exang          0\n",
       "oldpeak        0\n",
       "slope       1129\n",
       "ca          1197\n",
       "thal        1181\n",
       "num            0\n",
       "dtype: int64"
      ]
     },
     "execution_count": 150,
     "metadata": {},
     "output_type": "execute_result"
    }
   ],
   "source": [
    "df.isin(['?']).sum(axis=0)"
   ]
  },
  {
   "cell_type": "code",
   "execution_count": 151,
   "metadata": {},
   "outputs": [],
   "source": [
    "y = df['num']\n",
    "X = df.drop(columns=['slope', 'ca', 'thal', 'num'])\n",
    "\n",
    "y_combine = df_combine['num']\n",
    "X_combine = df_combine.drop(columns=['slope', 'ca', 'thal', 'num'])"
   ]
  },
  {
   "cell_type": "code",
   "execution_count": 154,
   "metadata": {},
   "outputs": [
    {
     "name": "stdout",
     "output_type": "stream",
     "text": [
      "1    998\n",
      "0    998\n",
      "dtype: int64\n"
     ]
    }
   ],
   "source": [
    "# from imblearn.over_sampling import RandomOverSampler\n",
    "# ros = RandomOverSampler(random_state=0)\n",
    "# X_train, y_train = ros.fit_resample(X, y)\n",
    "# print(pd.Series(y_train).value_counts())\n",
    "\n",
    "# from imblearn.under_sampling import ClusterCentroids\n",
    "# cc = ClusterCentroids(random_state=0)\n",
    "# X_train, y_train = cc.fit_resample(X, y)\n",
    "# print(pd.Series(y_train).value_counts())\n",
    "\n",
    "# from imblearn.combine import SMOTEENN\n",
    "# smote_enn = SMOTEENN(random_state=0)\n",
    "# X_train, y_train = smote_enn.fit_resample(X, y)\n",
    "# print(pd.Series(y_train).value_counts())\n",
    "\n",
    "\n",
    "from imblearn.combine import SMOTETomek\n",
    "smote_tomek = SMOTETomek(random_state=0)\n",
    "X_train, y_train = smote_tomek.fit_resample(X, y)\n",
    "print(pd.Series(y_train).value_counts())\n"
   ]
  },
  {
   "cell_type": "code",
   "execution_count": 155,
   "metadata": {},
   "outputs": [],
   "source": [
    "# X_train = X.values\n",
    "# y_train = y.values\n",
    "\n",
    "X_train_combine = X_combine.values\n",
    "y_train_combine = y_combine.values"
   ]
  },
  {
   "cell_type": "code",
   "execution_count": 156,
   "metadata": {},
   "outputs": [],
   "source": [
    "from scipy.stats import mode\n",
    "from sklearn.metrics import confusion_matrix, accuracy_score, f1_score, recall_score\n",
    "\n",
    "def purity_score(y_truth, y_predicted):\n",
    "    labels = np.zeros_like(y_predicted)\n",
    "    for i in range(2):\n",
    "        mask = (y_predicted == i)\n",
    "        labels[mask] = mode(y_truth[mask])[0]\n",
    "    return accuracy_score(y_truth, labels)"
   ]
  },
  {
   "cell_type": "markdown",
   "metadata": {},
   "source": [
    "## KMEANS"
   ]
  },
  {
   "cell_type": "code",
   "execution_count": 157,
   "metadata": {},
   "outputs": [],
   "source": [
    "from sklearn.cluster import KMeans"
   ]
  },
  {
   "cell_type": "code",
   "execution_count": 158,
   "metadata": {},
   "outputs": [],
   "source": [
    "kmeans = KMeans(2, random_state=1)\n",
    "kmeans_combine = KMeans(2, random_state=1)"
   ]
  },
  {
   "cell_type": "code",
   "execution_count": 159,
   "metadata": {},
   "outputs": [
    {
     "data": {
      "text/plain": [
       "KMeans(algorithm='auto', copy_x=True, init='k-means++', max_iter=300,\n",
       "    n_clusters=2, n_init=10, n_jobs=None, precompute_distances='auto',\n",
       "    random_state=1, tol=0.0001, verbose=0)"
      ]
     },
     "execution_count": 159,
     "metadata": {},
     "output_type": "execute_result"
    }
   ],
   "source": [
    "kmeans.fit(X_train)\n",
    "kmeans_combine.fit(X_train_combine)"
   ]
  },
  {
   "cell_type": "code",
   "execution_count": 163,
   "metadata": {},
   "outputs": [
    {
     "name": "stdout",
     "output_type": "stream",
     "text": [
      "Predicted label Train model only :  [1 1 1 ... 1 0 0]\n",
      "Purity Score Train model only :  [0.10721443 0.83466934]\n",
      "\n",
      "Predicted label Combine model :  [0 0 0 ... 0 0 0]\n",
      "Purity Score Combine model :  0.8232994526974199\n"
     ]
    }
   ],
   "source": [
    "print(\"Predicted label Train model only : \", kmeans.labels_)\n",
    "print(\"Purity Score Train model only : \", recall_score(y_train, kmeans.labels_, average=None))\n",
    "\n",
    "print()\n",
    "\n",
    "print(\"Predicted label Combine model : \", kmeans_combine.labels_)\n",
    "print(\"Purity Score Combine model : \", purity_score(y_train_combine, kmeans_combine.labels_))"
   ]
  },
  {
   "cell_type": "markdown",
   "metadata": {},
   "source": [
    "## Agglomerative"
   ]
  },
  {
   "cell_type": "code",
   "execution_count": 164,
   "metadata": {},
   "outputs": [],
   "source": [
    "from sklearn.cluster import AgglomerativeClustering"
   ]
  },
  {
   "cell_type": "code",
   "execution_count": 165,
   "metadata": {},
   "outputs": [
    {
     "data": {
      "text/plain": [
       "AgglomerativeClustering(affinity='euclidean', compute_full_tree='auto',\n",
       "            connectivity=None, linkage='ward', memory=None, n_clusters=2,\n",
       "            pooling_func='deprecated')"
      ]
     },
     "execution_count": 165,
     "metadata": {},
     "output_type": "execute_result"
    }
   ],
   "source": [
    "agg = AgglomerativeClustering(2, linkage=\"ward\")\n",
    "agg.fit(X_train)\n",
    "\n",
    "agg_combine = AgglomerativeClustering(2, linkage=\"ward\")\n",
    "agg_combine.fit(X_train_combine)"
   ]
  },
  {
   "cell_type": "code",
   "execution_count": 170,
   "metadata": {},
   "outputs": [
    {
     "name": "stdout",
     "output_type": "stream",
     "text": [
      "Predicted label Train model only :  [1 1 0 ... 1 0 0]\n",
      "Purity Score Train model only :  [0.55811623 0.35170341]\n",
      "\n",
      "Predicted label Combine model :  [1 1 1 ... 1 1 1]\n",
      "Purity Score Combine model :  0.8232994526974199\n"
     ]
    }
   ],
   "source": [
    "print(\"Predicted label Train model only : \", agg.labels_)\n",
    "print(\"Purity Score Train model only : \", recall_score(y_train, agg.labels_, average=None))\n",
    "\n",
    "print()\n",
    "\n",
    "print(\"Predicted label Combine model : \", agg_combine.labels_)\n",
    "print(\"Purity Score Combine model : \", purity_score(y_train_combine, agg_combine.labels_))"
   ]
  },
  {
   "cell_type": "markdown",
   "metadata": {},
   "source": [
    "## DBSCAN"
   ]
  },
  {
   "cell_type": "code",
   "execution_count": 129,
   "metadata": {},
   "outputs": [],
   "source": [
    "from sklearn.cluster import DBSCAN"
   ]
  },
  {
   "cell_type": "code",
   "execution_count": 130,
   "metadata": {},
   "outputs": [
    {
     "data": {
      "text/plain": [
       "DBSCAN(algorithm='auto', eps=0.5, leaf_size=30, metric='euclidean',\n",
       "    metric_params=None, min_samples=2, n_jobs=None, p=None)"
      ]
     },
     "execution_count": 130,
     "metadata": {},
     "output_type": "execute_result"
    }
   ],
   "source": [
    "dbscan_model = DBSCAN(min_samples=2, eps=0.5)\n",
    "dbscan_model.fit(X_train)\n",
    "\n",
    "dbscan_model_combine = DBSCAN(min_samples=2, eps=0.5)\n",
    "dbscan_model_combine.fit(X_train_combine)"
   ]
  },
  {
   "cell_type": "code",
   "execution_count": 131,
   "metadata": {},
   "outputs": [
    {
     "name": "stdout",
     "output_type": "stream",
     "text": [
      "Predicted label Train model only :  [-1 -1 -1 ... -1 -1 96]\n",
      "Purity Score Train model only :  0.8333333333333334\n",
      "\n",
      "Predicted label Combine model :  [-1 -1 -1 ... -1 -1 -1]\n",
      "Purity Score Combine model :  0.8232994526974199\n"
     ]
    }
   ],
   "source": [
    "print(\"Predicted label Train model only : \", dbscan_model.labels_)\n",
    "print(\"Purity Score Train model only : \", purity_score(y_train, dbscan_model.labels_))\n",
    "\n",
    "print()\n",
    "\n",
    "print(\"Predicted label Combine model : \", dbscan_model_combine.labels_)\n",
    "print(\"Purity Score Combine model : \", purity_score(y_train_combine, dbscan_model_combine.labels_))"
   ]
  }
 ],
 "metadata": {
  "kernelspec": {
   "display_name": "Python 3",
   "language": "python",
   "name": "python3"
  },
  "language_info": {
   "codemirror_mode": {
    "name": "ipython",
    "version": 3
   },
   "file_extension": ".py",
   "mimetype": "text/x-python",
   "name": "python",
   "nbconvert_exporter": "python",
   "pygments_lexer": "ipython3",
   "version": "3.6.4"
  }
 },
 "nbformat": 4,
 "nbformat_minor": 2
}
